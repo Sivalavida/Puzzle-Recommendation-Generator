{
 "cells": [
  {
   "cell_type": "markdown",
   "id": "0028f66e",
   "metadata": {
    "toc": true
   },
   "source": [
    "<h1>Table of Contents<span class=\"tocSkip\"></span></h1>\n",
    "<div class=\"toc\"><ul class=\"toc-item\"><li><span><a href=\"#Data-Analysis\" data-toc-modified-id=\"Data-Analysis-1\"><span class=\"toc-item-num\">1&nbsp;&nbsp;</span>Data Analysis</a></span><ul class=\"toc-item\"><li><span><a href=\"#Avg-Rating-by-puzzle\" data-toc-modified-id=\"Avg-Rating-by-puzzle-1.1\"><span class=\"toc-item-num\">1.1&nbsp;&nbsp;</span>Avg Rating by puzzle</a></span></li><li><span><a href=\"#Num-Ratings-by-puzzle\" data-toc-modified-id=\"Num-Ratings-by-puzzle-1.2\"><span class=\"toc-item-num\">1.2&nbsp;&nbsp;</span>Num Ratings by puzzle</a></span></li><li><span><a href=\"#user-item-Matrix\" data-toc-modified-id=\"user-item-Matrix-1.3\"><span class=\"toc-item-num\">1.3&nbsp;&nbsp;</span>user-item Matrix</a></span></li></ul></li><li><span><a href=\"#Generate-recommendations\" data-toc-modified-id=\"Generate-recommendations-2\"><span class=\"toc-item-num\">2&nbsp;&nbsp;</span>Generate recommendations</a></span></li></ul></div>"
   ]
  },
  {
   "cell_type": "code",
   "execution_count": 18,
   "id": "742447ee",
   "metadata": {
    "ExecuteTime": {
     "end_time": "2022-06-08T08:21:25.434140Z",
     "start_time": "2022-06-08T08:21:25.419206Z"
    }
   },
   "outputs": [],
   "source": [
    "import pandas as pd\n",
    "import numpy as np\n",
    "import matplotlib.pyplot as plt\n",
    "import seaborn as sns\n",
    "%matplotlib inline"
   ]
  },
  {
   "cell_type": "code",
   "execution_count": 19,
   "id": "0130ffd6",
   "metadata": {
    "ExecuteTime": {
     "end_time": "2022-06-08T08:21:25.828327Z",
     "start_time": "2022-06-08T08:21:25.748539Z"
    }
   },
   "outputs": [],
   "source": [
    "dfa=pd.read_csv('movies.csv')\n",
    "dfb=pd.read_csv('ratings.csv')"
   ]
  },
  {
   "cell_type": "code",
   "execution_count": 20,
   "id": "18b5cf8d",
   "metadata": {
    "ExecuteTime": {
     "end_time": "2022-06-08T08:21:26.309245Z",
     "start_time": "2022-06-08T08:21:26.304261Z"
    }
   },
   "outputs": [],
   "source": [
    "dfa=dfa.iloc[:,:2]\n",
    "dfb=dfb.iloc[:,:3]\n",
    "df=dfb.merge(dfa,how='left', on='movieId').drop('movieId', axis=1)"
   ]
  },
  {
   "cell_type": "code",
   "execution_count": 22,
   "id": "299296fb",
   "metadata": {
    "ExecuteTime": {
     "end_time": "2022-06-08T08:21:35.760527Z",
     "start_time": "2022-06-08T08:21:35.739547Z"
    }
   },
   "outputs": [
    {
     "data": {
      "text/html": [
       "<div>\n",
       "<style scoped>\n",
       "    .dataframe tbody tr th:only-of-type {\n",
       "        vertical-align: middle;\n",
       "    }\n",
       "\n",
       "    .dataframe tbody tr th {\n",
       "        vertical-align: top;\n",
       "    }\n",
       "\n",
       "    .dataframe thead th {\n",
       "        text-align: right;\n",
       "    }\n",
       "</style>\n",
       "<table border=\"1\" class=\"dataframe\">\n",
       "  <thead>\n",
       "    <tr style=\"text-align: right;\">\n",
       "      <th></th>\n",
       "      <th>userId</th>\n",
       "      <th>rating</th>\n",
       "      <th>title</th>\n",
       "    </tr>\n",
       "  </thead>\n",
       "  <tbody>\n",
       "    <tr>\n",
       "      <th>0</th>\n",
       "      <td>1</td>\n",
       "      <td>4.0</td>\n",
       "      <td>Toy Story (1995)</td>\n",
       "    </tr>\n",
       "    <tr>\n",
       "      <th>1</th>\n",
       "      <td>1</td>\n",
       "      <td>4.0</td>\n",
       "      <td>Grumpier Old Men (1995)</td>\n",
       "    </tr>\n",
       "    <tr>\n",
       "      <th>2</th>\n",
       "      <td>1</td>\n",
       "      <td>4.0</td>\n",
       "      <td>Heat (1995)</td>\n",
       "    </tr>\n",
       "    <tr>\n",
       "      <th>3</th>\n",
       "      <td>1</td>\n",
       "      <td>5.0</td>\n",
       "      <td>Seven (a.k.a. Se7en) (1995)</td>\n",
       "    </tr>\n",
       "    <tr>\n",
       "      <th>4</th>\n",
       "      <td>1</td>\n",
       "      <td>5.0</td>\n",
       "      <td>Usual Suspects, The (1995)</td>\n",
       "    </tr>\n",
       "    <tr>\n",
       "      <th>...</th>\n",
       "      <td>...</td>\n",
       "      <td>...</td>\n",
       "      <td>...</td>\n",
       "    </tr>\n",
       "    <tr>\n",
       "      <th>100831</th>\n",
       "      <td>610</td>\n",
       "      <td>4.0</td>\n",
       "      <td>Split (2017)</td>\n",
       "    </tr>\n",
       "    <tr>\n",
       "      <th>100832</th>\n",
       "      <td>610</td>\n",
       "      <td>5.0</td>\n",
       "      <td>John Wick: Chapter Two (2017)</td>\n",
       "    </tr>\n",
       "    <tr>\n",
       "      <th>100833</th>\n",
       "      <td>610</td>\n",
       "      <td>5.0</td>\n",
       "      <td>Get Out (2017)</td>\n",
       "    </tr>\n",
       "    <tr>\n",
       "      <th>100834</th>\n",
       "      <td>610</td>\n",
       "      <td>5.0</td>\n",
       "      <td>Logan (2017)</td>\n",
       "    </tr>\n",
       "    <tr>\n",
       "      <th>100835</th>\n",
       "      <td>610</td>\n",
       "      <td>3.0</td>\n",
       "      <td>The Fate of the Furious (2017)</td>\n",
       "    </tr>\n",
       "  </tbody>\n",
       "</table>\n",
       "<p>100836 rows × 3 columns</p>\n",
       "</div>"
      ],
      "text/plain": [
       "        userId  rating                           title\n",
       "0            1     4.0                Toy Story (1995)\n",
       "1            1     4.0         Grumpier Old Men (1995)\n",
       "2            1     4.0                     Heat (1995)\n",
       "3            1     5.0     Seven (a.k.a. Se7en) (1995)\n",
       "4            1     5.0      Usual Suspects, The (1995)\n",
       "...        ...     ...                             ...\n",
       "100831     610     4.0                    Split (2017)\n",
       "100832     610     5.0   John Wick: Chapter Two (2017)\n",
       "100833     610     5.0                  Get Out (2017)\n",
       "100834     610     5.0                    Logan (2017)\n",
       "100835     610     3.0  The Fate of the Furious (2017)\n",
       "\n",
       "[100836 rows x 3 columns]"
      ]
     },
     "execution_count": 22,
     "metadata": {},
     "output_type": "execute_result"
    }
   ],
   "source": [
    "df"
   ]
  },
  {
   "cell_type": "code",
   "execution_count": 150,
   "id": "59250f46",
   "metadata": {
    "ExecuteTime": {
     "end_time": "2022-06-08T09:56:29.548862Z",
     "start_time": "2022-06-08T09:56:29.532795Z"
    }
   },
   "outputs": [],
   "source": [
    "df = pd.read_csv('puzzle_ratings.csv')"
   ]
  },
  {
   "cell_type": "code",
   "execution_count": 151,
   "id": "fe420c1b",
   "metadata": {
    "ExecuteTime": {
     "end_time": "2022-06-08T09:56:29.908681Z",
     "start_time": "2022-06-08T09:56:29.895634Z"
    }
   },
   "outputs": [
    {
     "data": {
      "text/html": [
       "<div>\n",
       "<style scoped>\n",
       "    .dataframe tbody tr th:only-of-type {\n",
       "        vertical-align: middle;\n",
       "    }\n",
       "\n",
       "    .dataframe tbody tr th {\n",
       "        vertical-align: top;\n",
       "    }\n",
       "\n",
       "    .dataframe thead th {\n",
       "        text-align: right;\n",
       "    }\n",
       "</style>\n",
       "<table border=\"1\" class=\"dataframe\">\n",
       "  <thead>\n",
       "    <tr style=\"text-align: right;\">\n",
       "      <th></th>\n",
       "      <th>userID</th>\n",
       "      <th>puzzleID</th>\n",
       "      <th>rating</th>\n",
       "    </tr>\n",
       "  </thead>\n",
       "  <tbody>\n",
       "    <tr>\n",
       "      <th>0</th>\n",
       "      <td>1</td>\n",
       "      <td>1</td>\n",
       "      <td>5</td>\n",
       "    </tr>\n",
       "    <tr>\n",
       "      <th>1</th>\n",
       "      <td>1</td>\n",
       "      <td>2</td>\n",
       "      <td>5</td>\n",
       "    </tr>\n",
       "    <tr>\n",
       "      <th>2</th>\n",
       "      <td>1</td>\n",
       "      <td>4</td>\n",
       "      <td>0</td>\n",
       "    </tr>\n",
       "    <tr>\n",
       "      <th>3</th>\n",
       "      <td>1</td>\n",
       "      <td>5</td>\n",
       "      <td>0</td>\n",
       "    </tr>\n",
       "    <tr>\n",
       "      <th>4</th>\n",
       "      <td>1</td>\n",
       "      <td>6</td>\n",
       "      <td>0</td>\n",
       "    </tr>\n",
       "  </tbody>\n",
       "</table>\n",
       "</div>"
      ],
      "text/plain": [
       "   userID  puzzleID  rating\n",
       "0       1         1       5\n",
       "1       1         2       5\n",
       "2       1         4       0\n",
       "3       1         5       0\n",
       "4       1         6       0"
      ]
     },
     "execution_count": 151,
     "metadata": {},
     "output_type": "execute_result"
    }
   ],
   "source": [
    "df.head()"
   ]
  },
  {
   "cell_type": "markdown",
   "id": "f26c59df",
   "metadata": {},
   "source": [
    "# Data Analysis"
   ]
  },
  {
   "cell_type": "markdown",
   "id": "804a4cd2",
   "metadata": {},
   "source": [
    "## Avg Rating by puzzle"
   ]
  },
  {
   "cell_type": "code",
   "execution_count": 152,
   "id": "bc0783aa",
   "metadata": {
    "ExecuteTime": {
     "end_time": "2022-06-08T09:56:33.312081Z",
     "start_time": "2022-06-08T09:56:33.303062Z"
    }
   },
   "outputs": [
    {
     "data": {
      "text/plain": [
       "puzzleID\n",
       "4    3.50\n",
       "6    3.00\n",
       "5    2.75\n",
       "2    2.50\n",
       "1    2.00\n",
       "3    2.00\n",
       "Name: rating, dtype: float64"
      ]
     },
     "execution_count": 152,
     "metadata": {},
     "output_type": "execute_result"
    }
   ],
   "source": [
    "a=df.groupby('puzzleID').rating.mean().sort_values(ascending=False)\n",
    "a"
   ]
  },
  {
   "cell_type": "code",
   "execution_count": 153,
   "id": "9b794b1b",
   "metadata": {
    "ExecuteTime": {
     "end_time": "2022-06-08T09:56:34.670790Z",
     "start_time": "2022-06-08T09:56:34.497210Z"
    }
   },
   "outputs": [
    {
     "data": {
      "text/plain": [
       "<matplotlib.axes._subplots.AxesSubplot at 0x278075315e0>"
      ]
     },
     "execution_count": 153,
     "metadata": {},
     "output_type": "execute_result"
    },
    {
     "data": {
      "image/png": "[encoded data removed]",
      "text/plain": [
       "<Figure size 432x288 with 1 Axes>"
      ]
     },
     "metadata": {
      "needs_background": "light"
     },
     "output_type": "display_data"
    }
   ],
   "source": [
    "sns.histplot(a)"
   ]
  },
  {
   "cell_type": "markdown",
   "id": "1772ce27",
   "metadata": {},
   "source": [
    "## Num Ratings by puzzle "
   ]
  },
  {
   "cell_type": "code",
   "execution_count": 154,
   "id": "880a431a",
   "metadata": {
    "ExecuteTime": {
     "end_time": "2022-06-08T09:56:35.316345Z",
     "start_time": "2022-06-08T09:56:35.301366Z"
    }
   },
   "outputs": [
    {
     "data": {
      "text/plain": [
       "puzzleID\n",
       "6    5\n",
       "2    4\n",
       "3    4\n",
       "4    4\n",
       "5    4\n",
       "1    3\n",
       "Name: rating, dtype: int64"
      ]
     },
     "execution_count": 154,
     "metadata": {},
     "output_type": "execute_result"
    }
   ],
   "source": [
    "ct=df.groupby('puzzleID').rating.count().sort_values(ascending=False)\n",
    "ct"
   ]
  },
  {
   "cell_type": "code",
   "execution_count": 155,
   "id": "8cc564d9",
   "metadata": {
    "ExecuteTime": {
     "end_time": "2022-06-08T09:56:35.738805Z",
     "start_time": "2022-06-08T09:56:35.542576Z"
    }
   },
   "outputs": [
    {
     "data": {
      "text/plain": [
       "<matplotlib.axes._subplots.AxesSubplot at 0x27807065070>"
      ]
     },
     "execution_count": 155,
     "metadata": {},
     "output_type": "execute_result"
    },
    {
     "data": {
      "image/png": "[encoded data removed]",
      "text/plain": [
       "<Figure size 432x288 with 1 Axes>"
      ]
     },
     "metadata": {
      "needs_background": "light"
     },
     "output_type": "display_data"
    }
   ],
   "source": [
    "sns.histplot(ct)"
   ]
  },
  {
   "cell_type": "markdown",
   "id": "87147a59",
   "metadata": {},
   "source": [
    "## user-item Matrix"
   ]
  },
  {
   "cell_type": "code",
   "execution_count": 156,
   "id": "c12c4698",
   "metadata": {
    "ExecuteTime": {
     "end_time": "2022-06-08T09:56:36.954909Z",
     "start_time": "2022-06-08T09:56:36.915895Z"
    }
   },
   "outputs": [
    {
     "data": {
      "text/html": [
       "<div>\n",
       "<style scoped>\n",
       "    .dataframe tbody tr th:only-of-type {\n",
       "        vertical-align: middle;\n",
       "    }\n",
       "\n",
       "    .dataframe tbody tr th {\n",
       "        vertical-align: top;\n",
       "    }\n",
       "\n",
       "    .dataframe thead th {\n",
       "        text-align: right;\n",
       "    }\n",
       "</style>\n",
       "<table border=\"1\" class=\"dataframe\">\n",
       "  <thead>\n",
       "    <tr style=\"text-align: right;\">\n",
       "      <th>puzzleID</th>\n",
       "      <th>1</th>\n",
       "      <th>2</th>\n",
       "      <th>3</th>\n",
       "      <th>4</th>\n",
       "      <th>5</th>\n",
       "      <th>6</th>\n",
       "    </tr>\n",
       "    <tr>\n",
       "      <th>userID</th>\n",
       "      <th></th>\n",
       "      <th></th>\n",
       "      <th></th>\n",
       "      <th></th>\n",
       "      <th></th>\n",
       "      <th></th>\n",
       "    </tr>\n",
       "  </thead>\n",
       "  <tbody>\n",
       "    <tr>\n",
       "      <th>1</th>\n",
       "      <td>5.0</td>\n",
       "      <td>5.0</td>\n",
       "      <td>NaN</td>\n",
       "      <td>0.0</td>\n",
       "      <td>0.0</td>\n",
       "      <td>0.0</td>\n",
       "    </tr>\n",
       "    <tr>\n",
       "      <th>2</th>\n",
       "      <td>NaN</td>\n",
       "      <td>4.0</td>\n",
       "      <td>5.0</td>\n",
       "      <td>NaN</td>\n",
       "      <td>2.0</td>\n",
       "      <td>2.0</td>\n",
       "    </tr>\n",
       "    <tr>\n",
       "      <th>3</th>\n",
       "      <td>NaN</td>\n",
       "      <td>NaN</td>\n",
       "      <td>1.0</td>\n",
       "      <td>4.0</td>\n",
       "      <td>4.0</td>\n",
       "      <td>4.0</td>\n",
       "    </tr>\n",
       "    <tr>\n",
       "      <th>4</th>\n",
       "      <td>0.0</td>\n",
       "      <td>0.0</td>\n",
       "      <td>1.0</td>\n",
       "      <td>5.0</td>\n",
       "      <td>NaN</td>\n",
       "      <td>4.0</td>\n",
       "    </tr>\n",
       "    <tr>\n",
       "      <th>5</th>\n",
       "      <td>1.0</td>\n",
       "      <td>1.0</td>\n",
       "      <td>1.0</td>\n",
       "      <td>5.0</td>\n",
       "      <td>5.0</td>\n",
       "      <td>5.0</td>\n",
       "    </tr>\n",
       "  </tbody>\n",
       "</table>\n",
       "</div>"
      ],
      "text/plain": [
       "puzzleID    1    2    3    4    5    6\n",
       "userID                                \n",
       "1         5.0  5.0  NaN  0.0  0.0  0.0\n",
       "2         NaN  4.0  5.0  NaN  2.0  2.0\n",
       "3         NaN  NaN  1.0  4.0  4.0  4.0\n",
       "4         0.0  0.0  1.0  5.0  NaN  4.0\n",
       "5         1.0  1.0  1.0  5.0  5.0  5.0"
      ]
     },
     "execution_count": 156,
     "metadata": {},
     "output_type": "execute_result"
    }
   ],
   "source": [
    "dx=df.pivot_table(index='userID',columns='puzzleID',values='rating')\n",
    "dx.head()"
   ]
  },
  {
   "cell_type": "code",
   "execution_count": 157,
   "id": "e62ee397",
   "metadata": {
    "ExecuteTime": {
     "end_time": "2022-06-08T09:56:46.392591Z",
     "start_time": "2022-06-08T09:56:46.384643Z"
    },
    "scrolled": true
   },
   "outputs": [
    {
     "data": {
      "text/plain": [
       "(5, 6)"
      ]
     },
     "execution_count": 157,
     "metadata": {},
     "output_type": "execute_result"
    }
   ],
   "source": [
    "dx.shape"
   ]
  },
  {
   "cell_type": "code",
   "execution_count": 158,
   "id": "6d0d1ffc",
   "metadata": {
    "ExecuteTime": {
     "end_time": "2022-06-08T09:56:46.770505Z",
     "start_time": "2022-06-08T09:56:46.765739Z"
    }
   },
   "outputs": [],
   "source": [
    "# Filter moveis with less ratings\n",
    "# dx = dx[dx.columns[dx.notna().sum() > 100]]"
   ]
  },
  {
   "cell_type": "code",
   "execution_count": 159,
   "id": "2b122f01",
   "metadata": {
    "ExecuteTime": {
     "end_time": "2022-06-08T09:56:47.594588Z",
     "start_time": "2022-06-08T09:56:47.577633Z"
    }
   },
   "outputs": [],
   "source": [
    "# Filter users\n",
    "# dx = dx[dx.notna().sum(axis=1) > 100]"
   ]
  },
  {
   "cell_type": "code",
   "execution_count": 160,
   "id": "0be7e0bd",
   "metadata": {
    "ExecuteTime": {
     "end_time": "2022-06-08T09:56:47.828014Z",
     "start_time": "2022-06-08T09:56:47.817996Z"
    }
   },
   "outputs": [
    {
     "data": {
      "text/plain": [
       "(5, 6)"
      ]
     },
     "execution_count": 160,
     "metadata": {},
     "output_type": "execute_result"
    }
   ],
   "source": [
    "dx.shape"
   ]
  },
  {
   "cell_type": "code",
   "execution_count": 161,
   "id": "b3f5d25e",
   "metadata": {
    "ExecuteTime": {
     "end_time": "2022-06-08T09:56:48.172413Z",
     "start_time": "2022-06-08T09:56:48.149035Z"
    }
   },
   "outputs": [
    {
     "data": {
      "text/html": [
       "<div>\n",
       "<style scoped>\n",
       "    .dataframe tbody tr th:only-of-type {\n",
       "        vertical-align: middle;\n",
       "    }\n",
       "\n",
       "    .dataframe tbody tr th {\n",
       "        vertical-align: top;\n",
       "    }\n",
       "\n",
       "    .dataframe thead th {\n",
       "        text-align: right;\n",
       "    }\n",
       "</style>\n",
       "<table border=\"1\" class=\"dataframe\">\n",
       "  <thead>\n",
       "    <tr style=\"text-align: right;\">\n",
       "      <th>puzzleID</th>\n",
       "      <th>1</th>\n",
       "      <th>2</th>\n",
       "      <th>3</th>\n",
       "      <th>4</th>\n",
       "      <th>5</th>\n",
       "      <th>6</th>\n",
       "    </tr>\n",
       "    <tr>\n",
       "      <th>puzzleID</th>\n",
       "      <th></th>\n",
       "      <th></th>\n",
       "      <th></th>\n",
       "      <th></th>\n",
       "      <th></th>\n",
       "      <th></th>\n",
       "    </tr>\n",
       "  </thead>\n",
       "  <tbody>\n",
       "    <tr>\n",
       "      <th>1</th>\n",
       "      <td>1.000000</td>\n",
       "      <td>1.000000</td>\n",
       "      <td>NaN</td>\n",
       "      <td>-0.981981</td>\n",
       "      <td>-1.000000</td>\n",
       "      <td>-0.928571</td>\n",
       "    </tr>\n",
       "    <tr>\n",
       "      <th>2</th>\n",
       "      <td>1.000000</td>\n",
       "      <td>1.000000</td>\n",
       "      <td>0.970725</td>\n",
       "      <td>-0.981981</td>\n",
       "      <td>-0.986241</td>\n",
       "      <td>-0.915688</td>\n",
       "    </tr>\n",
       "    <tr>\n",
       "      <th>3</th>\n",
       "      <td>NaN</td>\n",
       "      <td>0.970725</td>\n",
       "      <td>1.000000</td>\n",
       "      <td>NaN</td>\n",
       "      <td>-0.944911</td>\n",
       "      <td>-0.927173</td>\n",
       "    </tr>\n",
       "    <tr>\n",
       "      <th>4</th>\n",
       "      <td>-0.981981</td>\n",
       "      <td>-0.981981</td>\n",
       "      <td>NaN</td>\n",
       "      <td>1.000000</td>\n",
       "      <td>1.000000</td>\n",
       "      <td>0.978839</td>\n",
       "    </tr>\n",
       "    <tr>\n",
       "      <th>5</th>\n",
       "      <td>-1.000000</td>\n",
       "      <td>-0.986241</td>\n",
       "      <td>-0.944911</td>\n",
       "      <td>1.000000</td>\n",
       "      <td>1.000000</td>\n",
       "      <td>1.000000</td>\n",
       "    </tr>\n",
       "    <tr>\n",
       "      <th>6</th>\n",
       "      <td>-0.928571</td>\n",
       "      <td>-0.915688</td>\n",
       "      <td>-0.927173</td>\n",
       "      <td>0.978839</td>\n",
       "      <td>1.000000</td>\n",
       "      <td>1.000000</td>\n",
       "    </tr>\n",
       "  </tbody>\n",
       "</table>\n",
       "</div>"
      ],
      "text/plain": [
       "puzzleID         1         2         3         4         5         6\n",
       "puzzleID                                                            \n",
       "1         1.000000  1.000000       NaN -0.981981 -1.000000 -0.928571\n",
       "2         1.000000  1.000000  0.970725 -0.981981 -0.986241 -0.915688\n",
       "3              NaN  0.970725  1.000000       NaN -0.944911 -0.927173\n",
       "4        -0.981981 -0.981981       NaN  1.000000  1.000000  0.978839\n",
       "5        -1.000000 -0.986241 -0.944911  1.000000  1.000000  1.000000\n",
       "6        -0.928571 -0.915688 -0.927173  0.978839  1.000000  1.000000"
      ]
     },
     "execution_count": 161,
     "metadata": {},
     "output_type": "execute_result"
    }
   ],
   "source": [
    "dc=dx.corr()\n",
    "dc"
   ]
  },
  {
   "cell_type": "markdown",
   "id": "6c7c1374",
   "metadata": {},
   "source": [
    "# Generate recommendations "
   ]
  },
  {
   "cell_type": "code",
   "execution_count": 200,
   "id": "4a620caa",
   "metadata": {
    "ExecuteTime": {
     "end_time": "2022-06-08T12:00:20.933106Z",
     "start_time": "2022-06-08T12:00:20.921138Z"
    }
   },
   "outputs": [
    {
     "data": {
      "text/plain": [
       "puzzleID\n",
       "1    0.600000\n",
       "2    0.591745\n",
       "3    0.566947\n",
       "4   -0.600000\n",
       "5   -0.600000\n",
       "6   -0.600000\n",
       "Name: 5, dtype: float64"
      ]
     },
     "execution_count": 200,
     "metadata": {},
     "output_type": "execute_result"
    }
   ],
   "source": [
    "def get_similar_puzzles(puzzle_id, user_rating, simmilarity_matrix = dc):\n",
    "    similarity_score = simmilarity_matrix[puzzle_id] * (user_rating - 2.5) # note: if rating is 2.5 then output is 0\n",
    "    return similarity_score.sort_values(ascending=False).dropna()/2.5\n",
    "\n",
    "get_similar_puzzles(5, 1)"
   ]
  },
  {
   "cell_type": "markdown",
   "id": "9d581aad",
   "metadata": {},
   "source": [
    "- if user rated puzzle 5 with low rating, then puzzle 1,2,3 get recommended, and 4,5,6 gets pushed down"
   ]
  },
  {
   "cell_type": "code",
   "execution_count": 201,
   "id": "9642d6b8",
   "metadata": {
    "ExecuteTime": {
     "end_time": "2022-06-08T12:01:32.170125Z",
     "start_time": "2022-06-08T12:01:32.157159Z"
    },
    "scrolled": false
   },
   "outputs": [],
   "source": [
    "# Recommend puzzle to user based on his past ratings\n",
    "def get_top_puzzles(user_ratings, drop_completed_puzzles=False):\n",
    "    rated = user_ratings.notna()\n",
    "    rated = rated.index[rated]\n",
    "    user_ratings = user_ratings.dropna()\n",
    "    sim_puzzles = pd.DataFrame()\n",
    "    for puz,rating in user_ratings.items():\n",
    "        s = get_similar_puzzles(puz,rating)\n",
    "#         print(puz, rating)\n",
    "#         print(s)\n",
    "#         print()\n",
    "        sim_puzzles=sim_puzzles.append(s)\n",
    "    \n",
    "    toppuz = sim_puzzles.mean().sort_values(ascending=False)\n",
    "    if drop_completed_puzzles:\n",
    "        toppuz = toppuz.drop(rated)\n",
    "    return toppuz"
   ]
  },
  {
   "cell_type": "code",
   "execution_count": 202,
   "id": "f6cc8fca",
   "metadata": {
    "ExecuteTime": {
     "end_time": "2022-06-08T12:01:32.217000Z",
     "start_time": "2022-06-08T12:01:32.172118Z"
    }
   },
   "outputs": [
    {
     "data": {
      "text/plain": [
       "3    0.947603\n",
       "dtype: float64"
      ]
     },
     "execution_count": 202,
     "metadata": {},
     "output_type": "execute_result"
    }
   ],
   "source": [
    "userx = dx.iloc[0]\n",
    "get_top_puzzles(userx, drop_completed_puzzles=True)"
   ]
  },
  {
   "cell_type": "code",
   "execution_count": 205,
   "id": "042263e1",
   "metadata": {
    "ExecuteTime": {
     "end_time": "2022-06-08T12:02:49.575233Z",
     "start_time": "2022-06-08T12:02:49.561273Z"
    }
   },
   "outputs": [
    {
     "data": {
      "text/plain": [
       "2    0.957844\n",
       "3    0.927173\n",
       "4   -0.980410\n",
       "5   -1.000000\n",
       "dtype: float64"
      ]
     },
     "execution_count": 205,
     "metadata": {},
     "output_type": "execute_result"
    }
   ],
   "source": [
    "userx = pd.Series({1:5, 6:0})\n",
    "get_top_puzzles(userx, drop_completed_puzzles=True)"
   ]
  },
  {
   "cell_type": "markdown",
   "id": "0aba7280",
   "metadata": {},
   "source": [
    "- recommends puzzles 2,3 correctly to user"
   ]
  }
 ],
 "metadata": {
  "hide_input": false,
  "kernelspec": {
   "display_name": "Python 3 (ipykernel)",
   "language": "python",
   "name": "python3"
  },
  "language_info": {
   "codemirror_mode": {
    "name": "ipython",
    "version": 3
   },
   "file_extension": ".py",
   "mimetype": "text/x-python",
   "name": "python",
   "nbconvert_exporter": "python",
   "pygments_lexer": "ipython3",
   "version": "3.9.7"
  },
  "toc": {
   "base_numbering": 1,
   "nav_menu": {},
   "number_sections": true,
   "sideBar": true,
   "skip_h1_title": false,
   "title_cell": "Table of Contents",
   "title_sidebar": "Contents",
   "toc_cell": true,
   "toc_position": {
    "height": "calc(100% - 180px)",
    "left": "10px",
    "top": "150px",
    "width": "165px"
   },
   "toc_section_display": true,
   "toc_window_display": true
  },
  "varInspector": {
   "cols": {
    "lenName": 16,
    "lenType": 16,
    "lenVar": 40
   },
   "kernels_config": {
    "python": {
     "delete_cmd_postfix": "",
     "delete_cmd_prefix": "del ",
     "library": "var_list.py",
     "varRefreshCmd": "print(var_dic_list())"
    },
    "r": {
     "delete_cmd_postfix": ") ",
     "delete_cmd_prefix": "rm(",
     "library": "var_list.r",
     "varRefreshCmd": "cat(var_dic_list()) "
    }
   },
   "types_to_exclude": [
    "module",
    "function",
    "builtin_function_or_method",
    "instance",
    "_Feature"
   ],
   "window_display": false
  }
 },
 "nbformat": 4,
 "nbformat_minor": 5
}
